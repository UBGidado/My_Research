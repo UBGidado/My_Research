{
 "cells": [
  {
   "cell_type": "markdown",
   "metadata": {
    "id": "rfna5chTUS4i"
   },
   "source": [
    "## Installing Dependences and imports"
   ]
  },
  {
   "cell_type": "markdown",
   "metadata": {
    "id": "JvQqJiauqedn"
   },
   "source": []
  },
  {
   "cell_type": "code",
   "execution_count": null,
   "metadata": {
    "colab": {
     "base_uri": "https://localhost:8080/"
    },
    "executionInfo": {
     "elapsed": 164067,
     "status": "ok",
     "timestamp": 1750714534580,
     "user": {
      "displayName": "Usman Babayo Gidado",
      "userId": "15514520218559541498"
     },
     "user_tz": -420
    },
    "id": "mAWgbMOTUP4u",
    "outputId": "ce0881de-cba4-40fe-d50d-3fffd4f6d47a"
   },
   "outputs": [],
   "source": [
    "!pip install -q kaggle datasets spacy transformers\n",
    "!python -m spacy download en_core_web_lg\n",
    "!pip install fastcoref -q\n",
    "!pip install negspacy -q\n",
    "!pip install flair\n",
    "!pip install pyvis"
   ]
  },
  {
   "cell_type": "code",
   "execution_count": null,
   "metadata": {
    "executionInfo": {
     "elapsed": 36163,
     "status": "ok",
     "timestamp": 1750714604570,
     "user": {
      "displayName": "Usman Babayo Gidado",
      "userId": "15514520218559541498"
     },
     "user_tz": -420
    },
    "id": "u82tpUffUd-r"
   },
   "outputs": [],
   "source": [
    "import os\n",
    "import re\n",
    "import torch\n",
    "import numpy as np\n",
    "import pandas as pd\n",
    "import kagglehub\n",
    "import spacy\n",
    "from tqdm.auto import tqdm\n",
    "from tqdm import tqdm\n",
    "from negspacy.negation import Negex\n",
    "from negspacy.termsets import termset\n",
    "from sklearn.cluster import KMeans\n",
    "import matplotlib.pyplot as plt\n",
    "import seaborn as sns\n",
    "from fastcoref import spacy_component\n",
    "from flair.models import SequenceTagger\n",
    "from flair.data import Sentence\n",
    "from sklearn.decomposition import PCA\n",
    "from google.colab import drive\n",
    "from collections import Counter\n",
    "from spacy.matcher import Matcher\n",
    "from datasets import load_dataset\n",
    "from google.colab import files"
   ]
  },
  {
   "cell_type": "markdown",
   "metadata": {
    "id": "hwV8acRjVFI4"
   },
   "source": [
    "## Setting up Kaggle API"
   ]
  },
  {
   "cell_type": "code",
   "execution_count": null,
   "metadata": {
    "colab": {
     "base_uri": "https://localhost:8080/",
     "height": 109
    },
    "executionInfo": {
     "elapsed": 11969,
     "status": "ok",
     "timestamp": 1750714709542,
     "user": {
      "displayName": "Usman Babayo Gidado",
      "userId": "15514520218559541498"
     },
     "user_tz": -420
    },
    "id": "DLLcF8HDVDms",
    "outputId": "fb7e1ffb-7958-4138-e7aa-0ed0cf49eddc"
   },
   "outputs": [],
   "source": [
    "uploaded = files.upload()\n",
    "!mkdir -p ~/.kaggle\n",
    "!mv kaggle.json ~/.kaggle/\n",
    "!chmod 600 ~/.kaggle/kaggle.json"
   ]
  },
  {
   "cell_type": "markdown",
   "metadata": {
    "id": "LetlQ98YXJSz"
   },
   "source": [
    "## Loading Dataset 1 (Hugging face)"
   ]
  },
  {
   "cell_type": "code",
   "execution_count": null,
   "metadata": {
    "colab": {
     "base_uri": "https://localhost:8080/",
     "height": 548
    },
    "executionInfo": {
     "elapsed": 1274,
     "status": "ok",
     "timestamp": 1750714730878,
     "user": {
      "displayName": "Usman Babayo Gidado",
      "userId": "15514520218559541498"
     },
     "user_tz": -420
    },
    "id": "lH3Q1MPHqyEZ",
    "outputId": "165a6b5c-aabf-4fbe-c207-34b6dc8f65a9"
   },
   "outputs": [],
   "source": [
    "!wget https://huggingface.co/datasets/halilbabacan/autotrain-data-cognitive_distortions/resolve/main/raw/Cognitive_distortions.csv\n",
    "\n",
    "# Load and structure the data\n",
    "df1 = pd.read_csv(\"Cognitive_distortions.csv\")\n",
    "df1 = df1.rename(columns={\n",
    "    'Text': 'Patient Question',\n",
    "    'Label': 'Dominant Distortion'\n",
    "})\n",
    "df1.insert(1, \"Distorted part\", value=np.nan)\n",
    "df1.insert(3, \"Secondary Distortion (Optional)\", value=np.nan)\n",
    "\n",
    "df1.head()"
   ]
  },
  {
   "cell_type": "code",
   "execution_count": null,
   "metadata": {
    "colab": {
     "base_uri": "https://localhost:8080/"
    },
    "executionInfo": {
     "elapsed": 307,
     "status": "ok",
     "timestamp": 1750714737779,
     "user": {
      "displayName": "Usman Babayo Gidado",
      "userId": "15514520218559541498"
     },
     "user_tz": -420
    },
    "id": "9a3a0d4f",
    "outputId": "a8bb7942-bf68-4e3a-c1f2-012f7335a050"
   },
   "outputs": [],
   "source": [
    "for col in [\"Distorted part\", \"Dominant Distortion\", \"Secondary Distortion (Optional)\"]:\n",
    "  print(f\"Unique values in '{col}':\")\n",
    "  if col in df1.columns:\n",
    "    print(df1[col].unique())\n",
    "  else:\n",
    "    print(f\"Column '{col}' not found in df1.\")\n",
    "  print(\"-\" * 30)"
   ]
  },
  {
   "cell_type": "markdown",
   "metadata": {
    "id": "0OuNkqb6hwP1"
   },
   "source": [
    "## Load Dataset 2 (Kaggle)"
   ]
  },
  {
   "cell_type": "code",
   "execution_count": null,
   "metadata": {
    "colab": {
     "base_uri": "https://localhost:8080/"
    },
    "executionInfo": {
     "elapsed": 8265,
     "status": "ok",
     "timestamp": 1750714748162,
     "user": {
      "displayName": "Usman Babayo Gidado",
      "userId": "15514520218559541498"
     },
     "user_tz": -420
    },
    "id": "yno9qfwHMbjB",
    "outputId": "223279ee-f924-4d7d-dde8-66e985bda5be"
   },
   "outputs": [],
   "source": [
    "multiclass_dataset_path = kagglehub.dataset_download(\n",
    "    \"sagarikashreevastava/cognitive-distortion-detetction-dataset\"\n",
    ")\n",
    "print(\"Path to dataset files:\", multiclass_dataset_path)\n",
    "multiclass_dataset_file_path = multiclass_dataset_path + \"/Annotated_data.csv\""
   ]
  },
  {
   "cell_type": "markdown",
   "metadata": {
    "id": "ta2VASIZm4Fr"
   },
   "source": [
    "### Cleaning & Structuring df2"
   ]
  },
  {
   "cell_type": "code",
   "execution_count": null,
   "metadata": {
    "colab": {
     "base_uri": "https://localhost:8080/",
     "height": 805
    },
    "executionInfo": {
     "elapsed": 435,
     "status": "ok",
     "timestamp": 1750714753355,
     "user": {
      "displayName": "Usman Babayo Gidado",
      "userId": "15514520218559541498"
     },
     "user_tz": -420
    },
    "id": "V0H-o5Kxh2GO",
    "outputId": "c73f7ba8-1618-49e7-dd83-d7aa4899e98e"
   },
   "outputs": [],
   "source": [
    "df2 = pd.read_csv(multiclass_dataset_file_path)\n",
    "df2 = df2.drop('Id_Number', axis=1) # deleting column with id\n",
    "df2"
   ]
  },
  {
   "cell_type": "markdown",
   "metadata": {
    "id": "ahGYKdXHpvfy"
   },
   "source": [
    "## Concatenate into df3"
   ]
  },
  {
   "cell_type": "code",
   "execution_count": null,
   "metadata": {
    "colab": {
     "base_uri": "https://localhost:8080/",
     "height": 823
    },
    "executionInfo": {
     "elapsed": 559,
     "status": "ok",
     "timestamp": 1750714812765,
     "user": {
      "displayName": "Usman Babayo Gidado",
      "userId": "15514520218559541498"
     },
     "user_tz": -420
    },
    "id": "YSU-0tFgpv7H",
    "outputId": "ac9306a5-b886-4c6b-c15f-8185b3459cc2"
   },
   "outputs": [],
   "source": [
    "df3 = pd.concat([df1, df2], ignore_index=True)\n",
    "df3"
   ]
  },
  {
   "cell_type": "code",
   "execution_count": null,
   "metadata": {
    "colab": {
     "base_uri": "https://localhost:8080/"
    },
    "executionInfo": {
     "elapsed": 310,
     "status": "ok",
     "timestamp": 1750715147962,
     "user": {
      "displayName": "Usman Babayo Gidado",
      "userId": "15514520218559541498"
     },
     "user_tz": -420
    },
    "id": "GUdF91-Rtikb",
    "outputId": "0c726a86-ad0f-4ee3-f096-9c6d8be61b36"
   },
   "outputs": [],
   "source": [
    "for col in [\"Distorted part\", \"Dominant Distortion\", \"Secondary Distortion (Optional)\"]:\n",
    "  print(f\"Unique values in '{col}':\")\n",
    "  if col in df3.columns:\n",
    "    print(df3[col].unique())\n",
    "  else:\n",
    "    print(f\"Column '{col}' not found in df1.\")\n",
    "  print(\"-\" * 30)"
   ]
  },
  {
   "cell_type": "code",
   "execution_count": null,
   "metadata": {
    "colab": {
     "base_uri": "https://localhost:8080/"
    },
    "executionInfo": {
     "elapsed": 307,
     "status": "ok",
     "timestamp": 1750715450669,
     "user": {
      "displayName": "Usman Babayo Gidado",
      "userId": "15514520218559541498"
     },
     "user_tz": -420
    },
    "id": "AVOEVTJJp4lI",
    "outputId": "b77cf447-e7ee-4794-f4cc-e856ca871ffb"
   },
   "outputs": [],
   "source": [
    "df3 = pd.concat([df1.drop(columns=[\"Distorted part\", \"Secondary Distortion (Optional)\"]), df2], ignore_index=True)\n",
    "df3 = df3.rename(columns={\"Patient Question\": \"text\"})\n",
    "df3 = df3.reset_index().rename(columns={\"index\": \"id\"})\n",
    "\n",
    "print(\" Dataset 1 and Dataset 2 loaded and combined into df3.\")\n",
    "print(df3.head())"
   ]
  },
  {
   "cell_type": "code",
   "execution_count": null,
   "metadata": {
    "executionInfo": {
     "elapsed": 5,
     "status": "ok",
     "timestamp": 1750715480903,
     "user": {
      "displayName": "Usman Babayo Gidado",
      "userId": "15514520218559541498"
     },
     "user_tz": -420
    },
    "id": "WuZ3r6iqu0BX"
   },
   "outputs": [],
   "source": [
    "# prompt: Renmae 'Distortion' in dominant disrotion column in df3\n",
    "\n",
    "df3['Dominant Distortion'] = df3['Dominant Distortion'].replace('Distortion', 'General Distortion')"
   ]
  },
  {
   "cell_type": "code",
   "execution_count": null,
   "metadata": {
    "colab": {
     "base_uri": "https://localhost:8080/"
    },
    "executionInfo": {
     "elapsed": 303,
     "status": "ok",
     "timestamp": 1750715497836,
     "user": {
      "displayName": "Usman Babayo Gidado",
      "userId": "15514520218559541498"
     },
     "user_tz": -420
    },
    "id": "3XvlvchzweVs",
    "outputId": "4136c80a-33f5-4123-b755-1f26128d9296"
   },
   "outputs": [],
   "source": [
    "# prompt: dominant distortion unique values\n",
    "\n",
    "print(df3['Dominant Distortion'].unique())"
   ]
  },
  {
   "cell_type": "markdown",
   "metadata": {
    "id": "hqWO0qAphNb_"
   },
   "source": [
    "#### Installing and Loading fastcoref\n"
   ]
  },
  {
   "cell_type": "code",
   "execution_count": null,
   "metadata": {
    "colab": {
     "base_uri": "https://localhost:8080/"
    },
    "executionInfo": {
     "elapsed": 6,
     "status": "ok",
     "timestamp": 1750715501257,
     "user": {
      "displayName": "Usman Babayo Gidado",
      "userId": "15514520218559541498"
     },
     "user_tz": -420
    },
    "id": "cd4d0c06",
    "outputId": "6f1305fd-d281-4f5c-a1ec-09ce28eb1f45"
   },
   "outputs": [],
   "source": [
    "gpu_available = torch.cuda.is_available()\n",
    "\n",
    "if gpu_available:\n",
    "    print(\" GPU is available\")\n",
    "else:\n",
    "  print(\"CPU\")"
   ]
  },
  {
   "cell_type": "markdown",
   "metadata": {
    "id": "KEkvxBrHhcVC"
   },
   "source": [
    "#### Applying Coref Resolution to Texts"
   ]
  },
  {
   "cell_type": "code",
   "execution_count": null,
   "metadata": {
    "colab": {
     "base_uri": "https://localhost:8080/",
     "height": 466,
     "referenced_widgets": [
      "da6defec508243b5b16ae2d8fba44a91",
      "708b77ac293146b7a24233d1ebbd08b2",
      "fa8db93294dc42b98248eb6ab208ea54",
      "6cbdb27840d84a5884b1a9b64aea86de",
      "5a3dc30e987341499ffe7acd03300ff8",
      "cc1c6f6aa0884951b3665a43a0891bf1",
      "9192367f358f4340bb510bcea9701050",
      "207ec315358f414d98ad58381194fecd",
      "5e103c23953c4303bae4590b9297d079",
      "7683f6af7946489daf1910c105a0c05b",
      "723dd91701c24e71a4cf6ddcbede2aae",
      "244f9d4ccdab43b6a2466824fc9bc369",
      "a6be497df44843d7b4bc8fc3e4b4e340",
      "18a032613ddd49629612bd9fc5d19271",
      "29a7e9f4bf894bb8ab2fc5540615bf0a",
      "1df1096d141a4cb6afa6e3f8dab87774",
      "527881978f234b49a649d53ae2f6a3cd",
      "ba3ef004ef5545b498f770790ad52f9f",
      "3a58ba1b2eda43438608957cf96fe1f9",
      "fc34f8a9fc8a4ac48269f9b1a7cb9687",
      "6145fea30c4b476e865736f06c20c188",
      "dd2b9c9951484c6595c306b23e5470fa",
      "7b218fe069a741b3b2516ecdfde4e6f0",
      "a162c6a9eea54d1289d444b96bab03c6",
      "95c13365626b4ea0994988216ac156de",
      "e048d8eb5c494facba106971e0aabc39",
      "41cfcfcdfe9c49cb9e368d0bec4eef59",
      "461bcc8706c0475db9ac4674c60759ff",
      "f072ad48a5064ea98dfc0f22f9f54451",
      "5d6ecb8d8b95474398e58c789ac47619",
      "c882d4615809471faef9965058bd9f05",
      "c0165d750d0b40d39e25293b1c6490d3",
      "a7b18f734b20425ba98cb38f8bbc6c33",
      "4b4c93a50a11494295b3af85d341b6be",
      "8559cad326da427aaaa26cb7fa6add3d",
      "1bf760fa69304fe490b68c10688b9d05",
      "f7ce3585422347a389454c485e7910c4",
      "a54feece971c4ea1bff00fc244cecd78",
      "654421005db64dcc94d1f2ef6c5e4aeb",
      "e28d7cd1818041b680f798b8cab553d8",
      "cc01db340f804e81a87fd7edded3e8c0",
      "b0cb86ec3d4e4e84b02783129dc61bd4",
      "d72355ba85e747e78048ecff989785f0",
      "7ad590c2fc4340d19c94a2fd9f273e3a",
      "7884e394ef9246b5bd8673faaeee0daa",
      "7f28982fc30a44b1979df7b736d41ee2",
      "d09c8b5007e2422995721c0bd225ec94",
      "0d7635b8bf5347a8876684fd0982b818",
      "94a56e67c4544b3eb46b2bf7db63f75e",
      "56f775da7fd848a0b365a002d1812254",
      "1f55520faeda462c93e261df7876915a",
      "bc1bc3c70a30435cb73a54a7cbb9bdd4",
      "a0d4f8b358ad4db49e9a2fe998295291",
      "d21a1700b1304f9782361b2cb2eb41e0",
      "64067202eac94ff59e5f52f78db8b521",
      "0adbddd9d4aa4a94b64c697c81dc7f53",
      "626d0a8abf3042af9e823a6d9769a96f",
      "78f0f3382a9542a3a94ed85bd44e26c2",
      "f1983751f1ba4e25947d97d675261f27",
      "87a2fb524cea47e8bc2abb4e8214b4bc",
      "02fd79c603b64dbc8006b45adf80ef36",
      "2eef0da0a9ab46a1b629c48a0e260a81",
      "8fec53911b4349f69d18c7121a097399",
      "790209ef338047cf884daf9a8f355c57",
      "828a7cb0d02245e5ad3d47f0c63e3fcf",
      "bca9d74bd1034154b74bdb739ea7ddfc",
      "13821b96c8394e218eeebe8a8e8ab2b8",
      "434dfdad719a4df8b717d72bd227059f",
      "882c8a35aa8b4138aa2d498e84c7ce8c",
      "7d47b97f76db44ba8f7a2b20c94455c0",
      "656d1dfe043c402b800f34c47c9e49f1",
      "99363090cea0443cbef397519d8dc395",
      "806cd9ea06224b91ada96afde388207b",
      "75b4987ad95242dab4af46993c842e9c",
      "924d3f9b8a04450a9c50de57a55b9595",
      "b6151267921344d69f7ed226e6cdbc9c",
      "8372e1d7137640b090f94d59425c937e",
      "29d1581865a54ad981cb676015bc7554",
      "44fc184f68d9403cbda035213269155e",
      "5bd2ef31f3004155bef3f92ac76cf9bc",
      "a6c69d9bd88548b2bcd5d643b32b35cd",
      "ac11f426304848da836f6c0e9218b971",
      "fe130d960c6b4a8fa16cdaa3838cd0ec",
      "ffb8e1b60df1487d9fe70f1a4fdf31a8",
      "7f20cc5f4d46409980612bbfaa837144",
      "bfaaebb5265349869eccf2c2e2a062d8",
      "d0b593fe199e4106b0c4ef5df4779c8b",
      "28702b0f96664e3e996487343a73ff4f",
      "3a1fab76ed3c41c0ac6e0415643c85d0",
      "9996b87bff1f464b85130def701a47a5",
      "87ef0711f2ce43308992b6a1f53ec17a",
      "3bdc23da075845d28738af50c3f392fe",
      "5b4da3c7f006437491d8e90e4d74e161",
      "f7fad391da15400b93a6b59ab67a33f4",
      "3ef4946ec4b5486192ac4e7a1c4a53d0",
      "0ca9f4656503415296dc3a38b72eab69",
      "0f4d65db5ab34bf680a53e93ac3bfbd7",
      "369b2f82d054462ab677b701449cd9c1",
      "1530156c8fcb4595ba7f84efeb26104c",
      "ea2769c0567b4904b44405d098b407ca",
      "f6ad59f89b15496593139e325cb247ec",
      "778e0b8a63e2498aa6c0365911df8149",
      "779a2e0f0db240fbbdb44b23b735ca55",
      "9b73469846944e66aba64869613555b2",
      "9674867e862e4bdc8021bd1c5b157dfa",
      "f93758f235624de695b5e1875bcc8a21",
      "2576dcd481614f1a94a07747fbd2a6fb",
      "ec5cb51a895542acb46ac693e63c1704",
      "30b9692997364165a732ddd42bfc1e25",
      "8927946cd11a4e8a9a817ca1d5e47d46"
     ]
    },
    "executionInfo": {
     "elapsed": 184755,
     "status": "ok",
     "timestamp": 1750715696090,
     "user": {
      "displayName": "Usman Babayo Gidado",
      "userId": "15514520218559541498"
     },
     "user_tz": -420
    },
    "id": "zMGYUpKf_R7K",
    "outputId": "b8bb7933-daab-4d9e-dee0-ea8eba83b16d"
   },
   "outputs": [],
   "source": [
    "from fastcoref import FCoref\n",
    "import spacy\n",
    "\n",
    "# Load spaCy's lg model (for dependency parsing/NER)\n",
    "nlp = spacy.load(\"en_core_web_lg\")\n",
    "\n",
    "coref_model = FCoref(device='cuda')\n",
    "\n",
    "# Process data\n",
    "predictions = coref_model.predict(df3[\"text\"].tolist())\n",
    "resolved_texts = [p.text for p in predictions]\n",
    "df3[\"resolved_text\"] = resolved_texts\n",
    "\n",
    "docs = list(nlp.pipe(df3[\"resolved_text\"], batch_size=16))"
   ]
  },
  {
   "cell_type": "code",
   "execution_count": null,
   "metadata": {
    "executionInfo": {
     "elapsed": 320,
     "status": "ok",
     "timestamp": 1750715881322,
     "user": {
      "displayName": "Usman Babayo Gidado",
      "userId": "15514520218559541498"
     },
     "user_tz": -420
    },
    "id": "d15fI_p1vJOe"
   },
   "outputs": [],
   "source": [
    "texts = df3[\"resolved_text\"].tolist()"
   ]
  },
  {
   "cell_type": "markdown",
   "metadata": {
    "id": "9Kxnupkeviln"
   },
   "source": [
    "#### Manually Verifying Coref Accuracy"
   ]
  },
  {
   "cell_type": "code",
   "execution_count": null,
   "metadata": {
    "colab": {
     "base_uri": "https://localhost:8080/",
     "height": 536
    },
    "executionInfo": {
     "elapsed": 323,
     "status": "ok",
     "timestamp": 1750715899591,
     "user": {
      "displayName": "Usman Babayo Gidado",
      "userId": "15514520218559541498"
     },
     "user_tz": -420
    },
    "id": "AVaIZtGhv2fn",
    "outputId": "990ca4d7-c0da-4bf5-83a6-0af60bc294a3"
   },
   "outputs": [],
   "source": [
    "sample_check = df3[[\"text\", \"resolved_text\"]].sample(10)\n",
    "display(sample_check)"
   ]
  },
  {
   "cell_type": "markdown",
   "metadata": {
    "id": "RNGLudtj4Gov"
   },
   "source": [
    "#Handling Negation in Relationship Triples"
   ]
  },
  {
   "cell_type": "code",
   "execution_count": null,
   "metadata": {
    "colab": {
     "base_uri": "https://localhost:8080/"
    },
    "executionInfo": {
     "elapsed": 101281,
     "status": "ok",
     "timestamp": 1750716031262,
     "user": {
      "displayName": "Usman Babayo Gidado",
      "userId": "15514520218559541498"
     },
     "user_tz": -420
    },
    "id": "f-SMPZzV4OmR",
    "outputId": "5211046c-a238-46a1-abaa-f1f612defffb"
   },
   "outputs": [],
   "source": [
    "import spacy\n",
    "from tqdm import tqdm\n",
    "import pandas as pd\n",
    "\n",
    "# Initialize negation detection pipeline\n",
    "nlp_neg = spacy.load(\"en_core_web_lg\", exclude=[\"parser\", \"coref\"])\n",
    "nlp_neg.add_pipe(\"sentencizer\")\n",
    "nlp_neg.add_pipe(\"negex\", last=True)\n",
    "\n",
    "# Process texts in batches\n",
    "neg_results_list = []\n",
    "batch_size = 8\n",
    "texts = df3[\"resolved_text\"].tolist()\n",
    "\n",
    "for doc in tqdm(nlp_neg.pipe(texts, batch_size=batch_size),\n",
    "                total=len(texts),\n",
    "                desc=\"Detecting negations\"):\n",
    "    # Extract negation information\n",
    "    neg_info = {\n",
    "        \"negated_entities\": [(ent.text, ent.label_, ent._.negex)\n",
    "                            for ent in doc.ents if ent._.negex],\n",
    "        \"has_negation\": any(ent._.negex for ent in doc.ents)\n",
    "    }\n",
    "    neg_results_list.append(neg_info)\n",
    "\n",
    "# Add results to DataFrame\n",
    "neg_results_df = pd.DataFrame(neg_results_list)\n",
    "df3 = pd.concat([df3, neg_results_df], axis=1)"
   ]
  },
  {
   "cell_type": "markdown",
   "metadata": {
    "id": "Lb4s79ZyZnWj"
   },
   "source": [
    "# Extracting triples from text column\n",
    "\n",
    "\n",
    "\n"
   ]
  },
  {
   "cell_type": "code",
   "execution_count": null,
   "metadata": {
    "colab": {
     "base_uri": "https://localhost:8080/"
    },
    "executionInfo": {
     "elapsed": 6152,
     "status": "ok",
     "timestamp": 1750716037393,
     "user": {
      "displayName": "Usman Babayo Gidado",
      "userId": "15514520218559541498"
     },
     "user_tz": -420
    },
    "id": "-Uwrkly7ZlxC",
    "outputId": "88c3decc-94ac-4ae3-85c3-9ef1bbef9f6d"
   },
   "outputs": [],
   "source": [
    "import spacy\n",
    "from flair.models import SequenceTagger\n",
    "from flair.data import Sentence\n",
    "import pandas as pd\n",
    "\n",
    "# Initialize models\n",
    "nlp = spacy.load(\"en_core_web_lg\")\n",
    "nlp.add_pipe('sentencizer')\n",
    "flair_tagger = SequenceTagger.load(\"flair/ner-english\").to('cuda')\n",
    "\n",
    "SOCIAL_RELATION_VERBS = {\n",
    "    \"like\", \"love\", \"hate\", \"trust\", \"distrust\", \"fear\", \"admire\", \"resent\",\n",
    "    \"blame\", \"support\", \"oppose\", \"befriend\", \"avoid\", \"confide\", \"believe\",\n",
    "    \"doubt\", \"respect\", \"despise\", \"envy\", \"forgive\", \"help\", \"betray\", \"accept\",\n",
    "    \"teach\", \"raise\", \"parent\", \"marry\", \"date\", \"partner\", \"understand\",\n",
    "    \"open\", \"connect\", \"relate\", \"abuse\", \"neglect\", \"criticize\", \"accuse\",\n",
    "    \"reject\", \"abandon\", \"protect\", \"depend\", \"rely\", \"dislike\", \"miss\",\n",
    "    \"care\", \"cherish\"\n",
    "}\n",
    "\n",
    "sample_texts = [\n",
    "    \"John trusts Mary but fears hospitals. He is the son of Robert.\",\n",
    "    \"Sarah supports Emily and works at Google.\",\n",
    "    \"The patient denies having any pain or discomfort.\"\n",
    "]\n",
    "\n",
    "def debug_relationship_extraction(text):\n",
    "    doc = nlp(text)\n",
    "    flair_sent = Sentence(text)\n",
    "    flair_tagger.predict([flair_sent])\n",
    "\n",
    "    print(f\"\\nProcessing text: {text}\")\n",
    "    print(\"\\nTokens and POS tags:\")\n",
    "    for token in doc:\n",
    "        print(f\"{token.text} ({token.pos_}, lemma: {token.lemma_})\")\n",
    "\n",
    "    print(\"\\nFlair entities:\")\n",
    "    for ent in flair_sent.get_spans('ner'):\n",
    "        print(f\"{ent.text} ({ent.tag})\")\n",
    "\n",
    "    print(\"\\nPotential relationships:\")\n",
    "    for sent in doc.sents:\n",
    "        for token in sent:\n",
    "            if token.pos_ == \"VERB\" and token.lemma_ in SOCIAL_RELATION_VERBS:\n",
    "                print(f\"\\nFound relationship verb: {token.text} (lemma: {token.lemma_})\")\n",
    "                subjects = extract_arguments(token, sent, \"subj\")\n",
    "                objects = extract_arguments(token, sent, \"obj\")\n",
    "                print(f\"Subjects: {subjects}\")\n",
    "                print(f\"Objects: {objects}\")\n",
    "\n",
    "def extract_arguments(token, sent, arg_type):\n",
    "    targets = set()\n",
    "    deps = {\"nsubj\", \"nsubjpass\"} if arg_type == \"subj\" else {\"dobj\", \"pobj\"}\n",
    "\n",
    "    for child in token.children:\n",
    "        if child.dep_ in deps:\n",
    "            targets.add(child.text)\n",
    "        elif child.dep_ == \"prep\":\n",
    "            for pobj in child.children:\n",
    "                if pobj.dep_ == \"pobj\":\n",
    "                    targets.add(pobj.text)\n",
    "\n",
    "    return list(targets)\n",
    "\n",
    "# Debug each sample text\n",
    "for text in sample_texts:\n",
    "    debug_relationship_extraction(text)"
   ]
  },
  {
   "cell_type": "code",
   "execution_count": null,
   "metadata": {
    "colab": {
     "base_uri": "https://localhost:8080/",
     "height": 151,
     "referenced_widgets": [
      "a18e5c9c3116490884a0ca3e890d2a97",
      "e96b4ab642774d598a4eb22774cb85ea",
      "a37566a6671643be9116d61eeb72c747",
      "f9e9381994914505808ed1f7d453b8d1",
      "01410f357f5344ef9f14eff683631d6c",
      "2e91347532d54072ab46f5717a9737df",
      "d12b9dfc8c0b4cbc992a400e379edc74",
      "a09ab21f09644155a12705ae099e8090",
      "12a9535f171c4543abef78363cbcbd80",
      "b33cc16c75e44fedb08d2645e6114bb0",
      "0a171fd406774a8d9c674559d0650162",
      "5e3fbb26e4cb4ae18c694bace78407a3",
      "af23e025416d42bbb4644fb254094b72",
      "0c6e85fc36cd4f50bfce9f235e9c815d",
      "3b9afeee83bc433b8b18c4339e5a350b",
      "d16e914188e2447b80a8b325963d67ab",
      "ee92764bdfee4d4d858f52b7e5c9312e",
      "9b334d78a5304a799875bbcc6b92b4dd",
      "ae58125ec69c4a189ca266cea589f553",
      "7aeda024e62c4022994cb630dc5ab774",
      "029a37dd6b7a4df3800d4a177d2d0749",
      "7bca7afac8034a1987ce2945a3e6af2e",
      "a3df477ae3a041a5931163ee80972288",
      "8dcbdfc7e66248e497ebbda413fbfe3a",
      "169f5c415ef14507bd15aacfc2c9e37b",
      "b747d356911f4e5aa2b94caba3fd90b1",
      "9e69fe15da5d47279a15cf51dbbce43f",
      "d6e93f9619c342e39091bc6d19fd236c",
      "f743805e717247e784ce176afa85334d",
      "31c2ba0c449746c285e6593f2e103d99",
      "a83bd5408fac43309fd80c39d01ef82c",
      "13fef5cd9e874696a760c688084d691b",
      "ff0cb5776b274ca1adf3b34d61cc8c6e"
     ]
    },
    "executionInfo": {
     "elapsed": 297398,
     "status": "ok",
     "timestamp": 1750716658925,
     "user": {
      "displayName": "Usman Babayo Gidado",
      "userId": "15514520218559541498"
     },
     "user_tz": -420
    },
    "id": "56IhqPXZyfeJ",
    "outputId": "1a9366db-a1a1-4820-89d9-614cd0727617"
   },
   "outputs": [],
   "source": [
    "from tqdm.auto import tqdm\n",
    "import pandas as pd\n",
    "from fastcoref import FCoref\n",
    "import spacy\n",
    "from flair.models import SequenceTagger\n",
    "from flair.data import Sentence\n",
    "from spacy.matcher import Matcher\n",
    "\n",
    "tqdm.pandas()\n",
    "\n",
    "nlp = spacy.load(\"en_core_web_lg\")\n",
    "\n",
    "coref_model = FCoref(device='cuda')\n",
    "predictions = coref_model.predict(df3[\"text\"].tolist())\n",
    "resolved_texts = [p.text for p in predictions]\n",
    "df3[\"resolved_text\"] = resolved_texts\n",
    "\n",
    "# Define the RelationshipExtractor class\n",
    "class RelationshipExtractor:\n",
    "    def __init__(self):\n",
    "        self.nlp = spacy.load(\"en_core_web_lg\")\n",
    "        self.nlp.add_pipe('sentencizer')\n",
    "        self.flair_tagger = SequenceTagger.load(\"flair/ner-english\").to('cuda')\n",
    "        self.matcher = Matcher(self.nlp.vocab)\n",
    "\n",
    "        self.SOCIAL_RELATION_VERBS = {\n",
    "            \"like\", \"love\", \"hate\", \"trust\", \"distrust\", \"fear\", \"admire\", \"resent\",\n",
    "            \"blame\", \"support\", \"oppose\", \"befriend\", \"avoid\", \"confide\", \"believe\",\n",
    "            \"doubt\", \"respect\", \"despise\", \"envy\", \"forgive\", \"help\", \"betray\", \"accept\",\n",
    "            \"teach\", \"raise\", \"parent\", \"marry\", \"date\", \"partner\", \"understand\",\n",
    "            \"open\", \"connect\", \"relate\", \"abuse\", \"neglect\", \"criticize\", \"accuse\",\n",
    "            \"reject\", \"abandon\", \"protect\", \"depend\", \"rely\", \"dislike\", \"miss\",\n",
    "            \"care\", \"cherish\"\n",
    "        }\n",
    "\n",
    "        # Add a pattern for verbs that are social relation verbs\n",
    "        verb_pattern = [{\"POS\": \"VERB\", \"LEMMA\": {\"IN\": list(self.SOCIAL_RELATION_VERBS)}}]\n",
    "        self.matcher.add(\"SOCIAL_VERB\", [verb_pattern])\n",
    "\n",
    "    def extract_relationships(self, texts):\n",
    "        all_relationships = []\n",
    "        docs = list(self.nlp.pipe(texts, disable=[\"ner\", \"textcat\"]))\n",
    "\n",
    "        for doc in docs:\n",
    "            relationships_in_doc = []\n",
    "            for sent in doc.sents:\n",
    "                # Find potential relationship verbs using the matcher\n",
    "                matches = self.matcher(sent)\n",
    "                for match_id, start, end in matches:\n",
    "                    # Access the token from the span\n",
    "                    verb_token = sent[start:end][0]\n",
    "                    relationships_in_doc.extend(self._extract_from_verb(verb_token, sent))\n",
    "            all_relationships.append(relationships_in_doc)\n",
    "        return all_relationships\n",
    "\n",
    "    def _extract_from_verb(self, verb_token, sent):\n",
    "        relationships = []\n",
    "        subjects = self._find_subjects(verb_token, sent)\n",
    "        objects = self._find_objects(verb_token, sent)\n",
    "\n",
    "        for subj in subjects:\n",
    "            for obj in objects:\n",
    "                relationships.append({\n",
    "                    \"subject\": subj.text,\n",
    "                    \"relation\": verb_token.lemma_,\n",
    "                    \"object\": obj.text,\n",
    "                    \"context\": sent.text,\n",
    "                })\n",
    "        return relationships\n",
    "\n",
    "    def _find_subjects(self, verb_token, sent):\n",
    "        subjects = []\n",
    "        for child in verb_token.children:\n",
    "            if child.dep_ in (\"nsubj\", \"nsubjpass\"):\n",
    "                subjects.append(child)\n",
    "        # Handle coordinating conjunctions (e.g., \"John and Mary like pizza\")\n",
    "        for subj in subjects:\n",
    "            for right_sibling in subj.rights:\n",
    "                if right_sibling.dep_ == \"conj\":\n",
    "                    subjects.append(right_sibling)\n",
    "        return subjects\n",
    "\n",
    "    def _find_objects(self, verb_token, sent):\n",
    "        objects = []\n",
    "        for child in verb_token.children:\n",
    "            if child.dep_ in (\"dobj\", \"pobj\"):\n",
    "                objects.append(child)\n",
    "            # Handle prepositional phrases\n",
    "            elif child.dep_ == \"prep\":\n",
    "                 for grand_child in child.children:\n",
    "                     if grand_child.dep_ == \"pobj\":\n",
    "                        objects.append(grand_child)\n",
    "\n",
    "        # Handle coordinating conjunctions (e.g., \"John likes pizza and pasta\")\n",
    "        for obj in objects:\n",
    "            for right_sibling in obj.rights:\n",
    "                if right_sibling.dep_ == \"conj\":\n",
    "                    objects.append(right_sibling)\n",
    "\n",
    "        return objects\n",
    "\n",
    "\n",
    "extractor = RelationshipExtractor()\n",
    "\n",
    "# Extract relationships from the resolved text\n",
    "df3[\"relationships\"] = df3[\"resolved_text\"].progress_apply(lambda x: extractor.extract_relationships([x])[0] if extractor.extract_relationships([x]) else [])"
   ]
  },
  {
   "cell_type": "markdown",
   "metadata": {
    "id": "MsB6lYlcD-IT"
   },
   "source": [
    "##  flattening and integration"
   ]
  },
  {
   "cell_type": "code",
   "execution_count": null,
   "metadata": {
    "colab": {
     "base_uri": "https://localhost:8080/",
     "height": 626
    },
    "executionInfo": {
     "elapsed": 770,
     "status": "ok",
     "timestamp": 1750717941361,
     "user": {
      "displayName": "Usman Babayo Gidado",
      "userId": "15514520218559541498"
     },
     "user_tz": -420
    },
    "id": "jL5qhpXOObHt",
    "outputId": "825d3eab-d758-4853-9c64-b2e82738fe9f"
   },
   "outputs": [],
   "source": [
    "# Initialize a list to hold detailed relationship rows\n",
    "detailed_records = []\n",
    "\n",
    "# Iterate over df3 to extract and flatten multiple relationships\n",
    "for _, row in df3.iterrows():\n",
    "    text_id = row[\"id\"]\n",
    "    text = row[\"text\"]\n",
    "    dominant_distortion = row[\"Dominant Distortion\"]\n",
    "    secondary_distortion = row[\"Secondary Distortion (Optional)\"]\n",
    "    relationships = row[\"relationships\"]\n",
    "\n",
    "    if isinstance(relationships, list):\n",
    "        for rel in relationships:\n",
    "            subj = rel.get(\"subject\")\n",
    "            rel_verb = rel.get(\"relation\")\n",
    "            obj = rel.get(\"object\")\n",
    "            context = rel.get(\"context\")\n",
    "            neg_flag = rel.get(\"negated\", False)\n",
    "\n",
    "            if subj and rel_verb and obj:\n",
    "                detailed_records.append({\n",
    "                    \"text_id\": text_id,\n",
    "                    \"context\": context,\n",
    "                    \"subject\": subj,\n",
    "                    \"relation\": rel_verb,\n",
    "                    \"object\": obj,\n",
    "                    \"negated\": neg_flag,\n",
    "                    \"dominant_distortion\": dominant_distortion,\n",
    "                    \"secondary_distortion\": secondary_distortion\n",
    "                })\n",
    "\n",
    "# Create DataFrame from all extracted triples\n",
    "triples_df = pd.DataFrame(detailed_records)\n",
    "\n",
    "# Reset index and assign an ID column\n",
    "if not triples_df.empty:\n",
    "    triples_df.reset_index(inplace=True)\n",
    "    triples_df.rename(columns={\"index\": \"id\"}, inplace=True)\n",
    "\n",
    "# Preview\n",
    "print(\" Extracted all relationships into triples_df\")\n",
    "display(triples_df.head())"
   ]
  },
  {
   "cell_type": "markdown",
   "metadata": {
    "id": "vWzw17sDKyAc"
   },
   "source": [
    "## Combined Solution (Summary + Detailed Triples)"
   ]
  },
  {
   "cell_type": "code",
   "execution_count": null,
   "metadata": {
    "colab": {
     "base_uri": "https://localhost:8080/",
     "height": 519
    },
    "executionInfo": {
     "elapsed": 911,
     "status": "ok",
     "timestamp": 1750716704050,
     "user": {
      "displayName": "Usman Babayo Gidado",
      "userId": "15514520218559541498"
     },
     "user_tz": -420
    },
    "id": "It8qzi9YTpDl",
    "outputId": "2bcbce29-ed72-49bc-d0b4-27022744ad0c"
   },
   "outputs": [],
   "source": [
    "# 1. Create Summary DataFrame (id, text, list-of-relationships)\n",
    "summary_df = df3[[\"id\", \"text\"]].copy()\n",
    "summary_df[\"list-of-relationships\"] = df3[\"relationships\"]\n",
    "\n",
    "# 2. Create Detailed Relationships DataFrame\n",
    "detailed_records = []\n",
    "for _, row in df3.iterrows():\n",
    "    for relationship in row[\"relationships\"]:\n",
    "        subj = relationship.get('subject')\n",
    "        rel = relationship.get('relation')\n",
    "        obj = relationship.get('object')\n",
    "\n",
    "        if subj and rel and obj:\n",
    "             detailed_records.append({\n",
    "                \"text_id\": row[\"id\"],\n",
    "                \"context\": row[\"text\"],  # Using full text as context\n",
    "                \"relationship\": (rel, subj, obj)\n",
    "            })\n",
    "\n",
    "triples_df = pd.DataFrame(detailed_records)\n",
    "if not triples_df.empty:\n",
    "    triples_df.reset_index(inplace=True)\n",
    "    triples_df.rename(columns={\"index\": \"id\"}, inplace=True)\n",
    "\n",
    "print(\"Summary DataFrame:\")\n",
    "display(summary_df.head())\n",
    "\n",
    "print(\"\\nTriples DataFrame:\")\n",
    "display(triples_df.head())"
   ]
  },
  {
   "cell_type": "code",
   "execution_count": null,
   "metadata": {
    "executionInfo": {
     "elapsed": 7,
     "status": "ok",
     "timestamp": 1750716660237,
     "user": {
      "displayName": "Usman Babayo Gidado",
      "userId": "15514520218559541498"
     },
     "user_tz": -420
    },
    "id": "Gwx4P6kc_ckT"
   },
   "outputs": [],
   "source": [
    "# Count number of relationships in each row\n",
    "df3[\"n_relationships\"] = df3[\"relationships\"].apply(lambda x: len(x) if isinstance(x, list) else 0)"
   ]
  },
  {
   "cell_type": "markdown",
   "metadata": {
    "id": "pllddZYPADxX"
   },
   "source": [
    "### Plot Histogram of Relationship Counts"
   ]
  },
  {
   "cell_type": "code",
   "execution_count": null,
   "metadata": {
    "colab": {
     "base_uri": "https://localhost:8080/",
     "height": 434
    },
    "executionInfo": {
     "elapsed": 959,
     "status": "ok",
     "timestamp": 1750718814639,
     "user": {
      "displayName": "Usman Babayo Gidado",
      "userId": "15514520218559541498"
     },
     "user_tz": -420
    },
    "id": "fyoEaLjaOyQu",
    "outputId": "228c1f79-1c32-4eb5-b1d4-ca1508b1c661"
   },
   "outputs": [],
   "source": [
    "relation_counts = triples_df['relation'].value_counts()\n",
    "\n",
    "sorted_relation_counts = relation_counts.sort_values(ascending=False)\n",
    "\n",
    "top_20_relations = sorted_relation_counts.head(20)\n",
    "\n",
    "# Visualize the statistics using a horizontal bar plot\n",
    "plt.figure(figsize=(12, 8))\n",
    "sns.barplot(x=top_20_relations.values, y=top_20_relations.index, orient='h', palette='viridis')\n",
    "plt.title('Top 20 Most Frequent Relations in triples_df', fontsize=16)\n",
    "plt.xlabel('Number of Occurrences', fontsize=12)\n",
    "plt.ylabel('Relation', fontsize=12)\n",
    "plt.tight_layout()\n",
    "plt.show()"
   ]
  },
  {
   "cell_type": "markdown",
   "metadata": {
    "id": "LBbt8IqsAOac"
   },
   "source": [
    "###  Print Sample Texts Based on Triple Count"
   ]
  },
  {
   "cell_type": "code",
   "execution_count": null,
   "metadata": {
    "colab": {
     "base_uri": "https://localhost:8080/",
     "height": 696
    },
    "executionInfo": {
     "elapsed": 18,
     "status": "ok",
     "timestamp": 1750719389088,
     "user": {
      "displayName": "Usman Babayo Gidado",
      "userId": "15514520218559541498"
     },
     "user_tz": -420
    },
    "id": "SEaygNZ7AYiz",
    "outputId": "a7aebf05-b22b-4d9a-cfc1-f9ea6d15ee3b"
   },
   "outputs": [],
   "source": [
    "# No triples extracted\n",
    "print(\"\\n No triples extracted:\")\n",
    "display(df3[df3[\"n_relationships\"] == 0][[\"text\", \"resolved_text\"]].sample(3))\n",
    "\n",
    "# Exactly 1 triple\n",
    "print(\"\\n Exactly 1 triple:\")\n",
    "display(df3[df3[\"n_relationships\"] == 1][[\"text\", \"resolved_text\", \"relationships\"]].sample(3))\n",
    "\n",
    "# More than 2 triples\n",
    "print(\"\\n Multiple triples:\")\n",
    "display(df3[df3[\"n_relationships\"] >= 2][[\"text\", \"resolved_text\", \"relationships\"]].sample(3))\n"
   ]
  },
  {
   "cell_type": "markdown",
   "metadata": {
    "id": "sZpnNbEYQnMa"
   },
   "source": [
    "# Clustering Relationships by Verb Type (Using Embeddings + Clustering)"
   ]
  },
  {
   "cell_type": "code",
   "execution_count": null,
   "metadata": {
    "colab": {
     "base_uri": "https://localhost:8080/"
    },
    "executionInfo": {
     "elapsed": 13,
     "status": "ok",
     "timestamp": 1750719673731,
     "user": {
      "displayName": "Usman Babayo Gidado",
      "userId": "15514520218559541498"
     },
     "user_tz": -420
    },
    "id": "4WcOlofuQmwe",
    "outputId": "834f0c2f-6549-46aa-afc6-e136ea63dc4a"
   },
   "outputs": [],
   "source": [
    "# Extract only unique verbs (relations) from the triples\n",
    "triples_df[\"verb\"] = triples_df[\"relation\"].apply(lambda x: x if isinstance(x, str) else None)\n",
    "# Rename the 'verb' column to 'relation'\n",
    "triples_df = triples_df.rename(columns={'verb': 'relation_text'}) # Renaming to relation_text to avoid conflict with the original relation column\n",
    "\n",
    "unique_verbs = sorted(triples_df[\"relation_text\"].dropna().unique())\n",
    "print(f\"Found {len(unique_verbs)} unique verbs:\", unique_verbs)"
   ]
  },
  {
   "cell_type": "code",
   "execution_count": null,
   "metadata": {
    "colab": {
     "base_uri": "https://localhost:8080/"
    },
    "executionInfo": {
     "elapsed": 7,
     "status": "ok",
     "timestamp": 1750719757757,
     "user": {
      "displayName": "Usman Babayo Gidado",
      "userId": "15514520218559541498"
     },
     "user_tz": -420
    },
    "id": "QAM_TMPLBt7T",
    "outputId": "e3a20ed2-7251-422c-d962-a88ee7c59408"
   },
   "outputs": [],
   "source": [
    "triples_df = triples_df.rename(columns={'verb': 'relation'})\n",
    "print(triples_df.head())"
   ]
  },
  {
   "cell_type": "markdown",
   "metadata": {
    "id": "QsYTa5zEXUwz"
   },
   "source": [
    "#### Convert Verbs to Vectors Using Pretrained Model\n"
   ]
  },
  {
   "cell_type": "code",
   "execution_count": null,
   "metadata": {
    "executionInfo": {
     "elapsed": 2589,
     "status": "ok",
     "timestamp": 1750719790451,
     "user": {
      "displayName": "Usman Babayo Gidado",
      "userId": "15514520218559541498"
     },
     "user_tz": -420
    },
    "id": "DtJeIDAoTmph"
   },
   "outputs": [],
   "source": [
    "nlp_lg = spacy.load(\"en_core_web_lg\")\n",
    "verb_vectors = np.array([nlp_lg(verb).vector for verb in unique_verbs])"
   ]
  },
  {
   "cell_type": "markdown",
   "metadata": {
    "id": "tRRl6ZTiXZyr"
   },
   "source": [
    "#### Apply Clustering (KMeans)\n"
   ]
  },
  {
   "cell_type": "code",
   "execution_count": null,
   "metadata": {
    "executionInfo": {
     "elapsed": 7,
     "status": "ok",
     "timestamp": 1750719793072,
     "user": {
      "displayName": "Usman Babayo Gidado",
      "userId": "15514520218559541498"
     },
     "user_tz": -420
    },
    "id": "eGXxAA7ZT-Iu"
   },
   "outputs": [],
   "source": [
    "k = 5\n",
    "kmeans = KMeans(n_clusters=k, random_state=42)\n",
    "clusters = kmeans.fit_predict(verb_vectors)\n",
    "\n",
    "# Map verbs to cluster IDs\n",
    "verb_cluster_map = {verb: int(cluster) for verb, cluster in zip(unique_verbs, clusters)}"
   ]
  },
  {
   "cell_type": "markdown",
   "metadata": {
    "id": "a6pCeKAKZGUP"
   },
   "source": [
    "#### Visualizing Clusters"
   ]
  },
  {
   "cell_type": "code",
   "execution_count": null,
   "metadata": {
    "colab": {
     "base_uri": "https://localhost:8080/",
     "height": 417
    },
    "executionInfo": {
     "elapsed": 929,
     "status": "ok",
     "timestamp": 1750719812372,
     "user": {
      "displayName": "Usman Babayo Gidado",
      "userId": "15514520218559541498"
     },
     "user_tz": -420
    },
    "id": "8odmMRFVV3ez",
    "outputId": "e6eb73f1-b659-485d-90f9-f1c7cd25fe19"
   },
   "outputs": [],
   "source": [
    "# Reduce dimensions for plotting\n",
    "pca = PCA(n_components=2)\n",
    "verb_vec_2d = pca.fit_transform(verb_vectors)\n",
    "\n",
    "# Plot\n",
    "plt.figure(figsize=(10, 6))\n",
    "sns.scatterplot(x=verb_vec_2d[:, 0], y=verb_vec_2d[:, 1], hue=clusters, palette=\"tab10\", s=100)\n",
    "\n",
    "# Annotate points\n",
    "for i, verb in enumerate(unique_verbs):\n",
    "    plt.text(verb_vec_2d[i, 0] + 0.01, verb_vec_2d[i, 1], verb, fontsize=9)\n",
    "\n",
    "plt.title(\"relation Clustering with KMeans + PCA\")\n",
    "plt.xlabel(\"PCA 1\")\n",
    "plt.ylabel(\"PCA 2\")\n",
    "plt.grid(True)\n",
    "plt.show()"
   ]
  },
  {
   "cell_type": "markdown",
   "metadata": {
    "id": "Y5XOeudFIXwT"
   },
   "source": [
    "#### mapping each verb to it cluster and return a list of verbs to each cluster"
   ]
  },
  {
   "cell_type": "code",
   "execution_count": null,
   "metadata": {
    "colab": {
     "base_uri": "https://localhost:8080/"
    },
    "executionInfo": {
     "elapsed": 9,
     "status": "ok",
     "timestamp": 1750719865606,
     "user": {
      "displayName": "Usman Babayo Gidado",
      "userId": "15514520218559541498"
     },
     "user_tz": -420
    },
    "id": "z9V2mURYFZEo",
    "outputId": "b03d15e8-bb74-4076-c0a3-e96f2fede5d8"
   },
   "outputs": [],
   "source": [
    "cluster_to_verbs = {}\n",
    "for verb, cluster_id in verb_cluster_map.items():\n",
    "    if cluster_id not in cluster_to_verbs:\n",
    "        cluster_to_verbs[cluster_id] = []\n",
    "    cluster_to_verbs[cluster_id].append(verb)\n",
    "\n",
    "# Print the list of verbs for each cluster\n",
    "print(\"\\nRelations assigned to each cluster:\")\n",
    "for cluster_id, verbs_list in cluster_to_verbs.items():\n",
    "    print(f\"Cluster {cluster_id}: {verbs_list}\")"
   ]
  },
  {
   "cell_type": "markdown",
   "metadata": {
    "id": "o0P91RYpfszH"
   },
   "source": [
    "#### mapping clusters to semantic categories"
   ]
  },
  {
   "cell_type": "code",
   "execution_count": null,
   "metadata": {
    "executionInfo": {
     "elapsed": 304,
     "status": "ok",
     "timestamp": 1750720127581,
     "user": {
      "displayName": "Usman Babayo Gidado",
      "userId": "15514520218559541498"
     },
     "user_tz": -420
    },
    "id": "1lQhED8Gfset"
   },
   "outputs": [],
   "source": [
    "# Define manual labels based on cluster inspection\n",
    "relation_cluster_labels = {\n",
    "    0: \"Supportive Trust\",\n",
    "    1: \"Emotional Evaluation\",\n",
    "    2: \"Harmful Actions\",\n",
    "    3: \"Social Tension\",\n",
    "    4: \"Bond Alteration\"\n",
    "}\n",
    "# Add cluster label to each row in triples_df\n",
    "triples_df[\"relation_cluster\"] = triples_df[\"relation\"].map(verb_cluster_map)\n",
    "triples_df[\"relation_cluster_label\"] = triples_df[\"relation_cluster\"].map(verb_cluster_labels)"
   ]
  },
  {
   "cell_type": "code",
   "execution_count": null,
   "metadata": {
    "colab": {
     "base_uri": "https://localhost:8080/",
     "height": 608
    },
    "executionInfo": {
     "elapsed": 356,
     "status": "ok",
     "timestamp": 1750720197283,
     "user": {
      "displayName": "Usman Babayo Gidado",
      "userId": "15514520218559541498"
     },
     "user_tz": -420
    },
    "id": "deB03kzThQas",
    "outputId": "763fb665-d8a3-4e8d-8724-81cd455ef498"
   },
   "outputs": [],
   "source": [
    "triples_df.head()"
   ]
  },
  {
   "cell_type": "code",
   "execution_count": null,
   "metadata": {
    "colab": {
     "base_uri": "https://localhost:8080/",
     "height": 679
    },
    "executionInfo": {
     "elapsed": 319,
     "status": "ok",
     "timestamp": 1750720225516,
     "user": {
      "displayName": "Usman Babayo Gidado",
      "userId": "15514520218559541498"
     },
     "user_tz": -420
    },
    "id": "YFpy2ugvjMGp",
    "outputId": "e3cd75d1-748d-4cbf-c343-b3e372d7e411"
   },
   "outputs": [],
   "source": [
    "triples_df['Dominant Distortion'] = triples_df['text_id'].map(df3.set_index('id')['Dominant Distortion'])\n",
    "triples_df['Secondary Distortion (Optional)'] = triples_df['text_id'].map(df3.set_index('id')['Secondary Distortion (Optional)'])\n",
    "\n",
    "# Display the updated triples_df\n",
    "print(\"Triples DataFrame with Distortion columns:\")\n",
    "display(triples_df.head())\n",
    "print(len(triples_df))"
   ]
  },
  {
   "cell_type": "markdown",
   "metadata": {
    "id": "EOGIIgB83vb-"
   },
   "source": [
    "### Saving the result"
   ]
  },
  {
   "cell_type": "code",
   "execution_count": null,
   "metadata": {
    "colab": {
     "base_uri": "https://localhost:8080/"
    },
    "executionInfo": {
     "elapsed": 2104,
     "status": "ok",
     "timestamp": 1750720244211,
     "user": {
      "displayName": "Usman Babayo Gidado",
      "userId": "15514520218559541498"
     },
     "user_tz": -420
    },
    "id": "2tBPvAatNb0v",
    "outputId": "e394162d-3dfa-4ee5-ad57-9b9b58ae464d"
   },
   "outputs": [],
   "source": [
    "# prompt: save triples_df in my drive in My Research folder\n",
    "drive.mount('/content/drive')\n",
    "triples_df.to_csv('/content/drive/My Drive/My Research/triples_df.csv', index=False)\n",
    "print(\"triples_df saved to Google Drive.\")"
   ]
  },
  {
   "cell_type": "code",
   "execution_count": null,
   "metadata": {
    "colab": {
     "base_uri": "https://localhost:8080/"
    },
    "executionInfo": {
     "elapsed": 9802,
     "status": "ok",
     "timestamp": 1750722307101,
     "user": {
      "displayName": "Usman Babayo Gidado",
      "userId": "15514520218559541498"
     },
     "user_tz": -420
    },
    "id": "y5DWG0OtGWaD",
    "outputId": "b7c383e3-b1aa-4d5c-9c21-d54545cc779e"
   },
   "outputs": [],
   "source": [
    "# 1. Install required tools\n",
    "!pip install -q nbstripout jq\n",
    "\n",
    "# 3. Set correct paths (CHANGE THESE IF NEEDED)\n",
    "input_path = \"/content/drive/MyDrive/Colab Notebooks/Clustering_Relation_Verbs.ipynb\"\n",
    "output_path = \"/content/cleaned_notebook.ipynb\"\n",
    "\n",
    "# 4. Clean the notebook (3-step process)\n",
    "# Step 1: Copy to Colab's working directory\n",
    "!cp \"{input_path}\" /content/\n",
    "\n",
    "# Step 2: Clean outputs and widgets\n",
    "!jupyter nbconvert --ClearOutputPreprocessor.enabled=True --to notebook --output temp.ipynb /content/Clustering_Relation_Verbs.ipynb\n",
    "!nbstripout temp.ipynb\n",
    "\n",
    "# Step 3: Move to final location\n",
    "!mv temp.ipynb \"{output_path}\"\n",
    "\n",
    "# 5. Verify cleaning worked\n",
    "!jq .metadata.widgets \"{output_path}\"  # Should return \"null\"\n",
    "\n",
    "# 6. Download cleaned file\n",
    "from google.colab import files\n",
    "files.download(output_path)"
   ]
  }
 ],
 "metadata": {
  "accelerator": "GPU",
  "colab": {
   "gpuType": "T4",
   "provenance": []
  },
  "kernelspec": {
   "display_name": "Python 3",
   "name": "python3"
  },
  "language_info": {
   "name": "python"
  }
 },
 "nbformat": 4,
 "nbformat_minor": 0
}
