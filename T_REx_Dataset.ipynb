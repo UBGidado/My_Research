{
  "nbformat": 4,
  "nbformat_minor": 0,
  "metadata": {
    "colab": {
      "provenance": [],
      "gpuType": "T4",
      "authorship_tag": "ABX9TyP3FokFlxxknB+HAayRmhip",
      "include_colab_link": true
    },
    "kernelspec": {
      "name": "python3",
      "display_name": "Python 3"
    },
    "language_info": {
      "name": "python"
    },
    "accelerator": "GPU"
  },
  "cells": [
    {
      "cell_type": "markdown",
      "metadata": {
        "id": "view-in-github",
        "colab_type": "text"
      },
      "source": [
        "<a href=\"https://colab.research.google.com/github/UBGidado/My_Research/blob/main/T_REx_Dataset.ipynb\" target=\"_parent\"><img src=\"https://colab.research.google.com/assets/colab-badge.svg\" alt=\"Open In Colab\"/></a>"
      ]
    },
    {
      "cell_type": "code",
      "source": [
        "!pip install jsonlines\n",
        "from google.colab import drive\n",
        "import os\n",
        "import jsonlines\n",
        "import pandas as pd\n",
        "drive.mount('/content/drive')\n",
        "trex_sample_path = \"/content/drive/MyDrive/TREx/re-nlg_10000-20000.json\""
      ],
      "metadata": {
        "colab": {
          "base_uri": "https://localhost:8080/"
        },
        "id": "TE17qgIm4Jpx",
        "outputId": "d87c9dc6-451f-422d-e075-dcbb2b20e2ae"
      },
      "execution_count": null,
      "outputs": [
        {
          "output_type": "stream",
          "name": "stdout",
          "text": [
            "Requirement already satisfied: jsonlines in /usr/local/lib/python3.11/dist-packages (4.0.0)\n",
            "Requirement already satisfied: attrs>=19.2.0 in /usr/local/lib/python3.11/dist-packages (from jsonlines) (25.3.0)\n",
            "Drive already mounted at /content/drive; to attempt to forcibly remount, call drive.mount(\"/content/drive\", force_remount=True).\n"
          ]
        }
      ]
    },
    {
      "cell_type": "markdown",
      "source": [
        "# Loading and processing the dataset\n"
      ],
      "metadata": {
        "id": "VALVky4S7JjN"
      }
    },
    {
      "cell_type": "code",
      "source": [
        "data = []\n",
        "with jsonlines.open(trex_sample_path, \"r\") as reader:\n",
        "    for obj_list in reader:  # reader contains a list of objects\n",
        "        for obj in obj_list:  # Iterate through each object in the list\n",
        "            # Extract relevant fields (modify as needed)\n",
        "            sentence = obj.get(\"sentence\", \"\")\n",
        "            subj = obj.get(\"subject\", \"\")\n",
        "            obj_ = obj.get(\"object\", \"\")\n",
        "            rel = obj.get(\"relation\", \"\")\n",
        "\n",
        "            data.append({\n",
        "                \"sentence\": sentence,\n",
        "                \"subject\": subj,\n",
        "                \"object\": obj_,\n",
        "                \"relation\": rel\n",
        "            })"
      ],
      "metadata": {
        "id": "6ytko3w_4v2V"
      },
      "execution_count": null,
      "outputs": []
    },
    {
      "cell_type": "markdown",
      "source": [
        "### Converting to Dataframe"
      ],
      "metadata": {
        "id": "fUI61qFe65_a"
      }
    },
    {
      "cell_type": "code",
      "source": [
        "df = pd.DataFrame(data)\n",
        "print(df.head(5))  # Display sample rows\n",
        "print(f\"Total rows parsed: {len(df)}\")"
      ],
      "metadata": {
        "colab": {
          "base_uri": "https://localhost:8080/"
        },
        "id": "3rDV7Loq41xO",
        "outputId": "e1b29a1c-958b-4bf7-c5c1-69f29ce35314"
      },
      "execution_count": null,
      "outputs": [
        {
          "output_type": "stream",
          "name": "stdout",
          "text": [
            "  sentence subject object relation\n",
            "0                                 \n",
            "1                                 \n",
            "2                                 \n",
            "3                                 \n",
            "4                                 \n",
            "Total rows parsed: 10000\n"
          ]
        }
      ]
    },
    {
      "cell_type": "code",
      "source": [
        " #Save the processed data to Google Drive\n",
        "output_csv = \"/content/drive/MyDrive/trex_sample_cleaned.csv\"\n",
        "df.to_csv(output_csv, index=False)\n",
        "print(f\"Processed T-REx sample saved to: {output_csv}\")"
      ],
      "metadata": {
        "colab": {
          "base_uri": "https://localhost:8080/"
        },
        "id": "XW0XAr2U7giH",
        "outputId": "ee37cd91-42d0-4134-bc63-befa1b5ff216"
      },
      "execution_count": null,
      "outputs": [
        {
          "output_type": "stream",
          "name": "stdout",
          "text": [
            "Processed T-REx sample saved to: /content/drive/MyDrive/trex_sample_cleaned.csv\n"
          ]
        }
      ]
    },
    {
      "cell_type": "markdown",
      "source": [
        "### Loading and Preprocessing the Dataset"
      ],
      "metadata": {
        "id": "18Ltt62787E7"
      }
    },
    {
      "cell_type": "code",
      "source": [
        "df.info()"
      ],
      "metadata": {
        "colab": {
          "base_uri": "https://localhost:8080/"
        },
        "id": "4mP74Nda7p7G",
        "outputId": "75e66a87-b5e4-41f0-d548-80cf857265f0"
      },
      "execution_count": null,
      "outputs": [
        {
          "output_type": "stream",
          "name": "stdout",
          "text": [
            "<class 'pandas.core.frame.DataFrame'>\n",
            "RangeIndex: 10000 entries, 0 to 9999\n",
            "Data columns (total 4 columns):\n",
            " #   Column    Non-Null Count  Dtype \n",
            "---  ------    --------------  ----- \n",
            " 0   sentence  10000 non-null  object\n",
            " 1   subject   10000 non-null  object\n",
            " 2   object    10000 non-null  object\n",
            " 3   relation  10000 non-null  object\n",
            "dtypes: object(4)\n",
            "memory usage: 312.6+ KB\n"
          ]
        }
      ]
    },
    {
      "cell_type": "code",
      "source": [],
      "metadata": {
        "id": "T_k4fuQLGSLZ"
      },
      "execution_count": null,
      "outputs": []
    }
  ]
}